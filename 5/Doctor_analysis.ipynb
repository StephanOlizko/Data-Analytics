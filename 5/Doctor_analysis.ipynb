{
 "cells": [
  {
   "cell_type": "markdown",
   "id": "59b2b858",
   "metadata": {},
   "source": [
    "# Анализ данных из файла Doctor.xlsx"
   ]
  },
  {
   "cell_type": "markdown",
   "id": "d89e718d",
   "metadata": {},
   "source": [
    "\n",
    "1. Описательная статистика.\n",
    "2. Создание категориальной переменной.\n",
    "3. Построение логистической регрессии.\n",
    "4. Проверка значимости модели и её коэффициентов.\n",
    "5. Построение доверительных интервалов.\n",
    "6. Сравнение логит и пробит моделей.\n",
    "7. Анализ классификационной таблицы.\n",
    "8. Построение ROC-кривой.\n",
    "9. Улучшение модели с помощью AIC.\n"
   ]
  },
  {
   "cell_type": "code",
   "execution_count": 2,
   "id": "06a84ccc",
   "metadata": {},
   "outputs": [
    {
     "data": {
      "text/html": [
       "<div>\n",
       "<style scoped>\n",
       "    .dataframe tbody tr th:only-of-type {\n",
       "        vertical-align: middle;\n",
       "    }\n",
       "\n",
       "    .dataframe tbody tr th {\n",
       "        vertical-align: top;\n",
       "    }\n",
       "\n",
       "    .dataframe thead th {\n",
       "        text-align: right;\n",
       "    }\n",
       "</style>\n",
       "<table border=\"1\" class=\"dataframe\">\n",
       "  <thead>\n",
       "    <tr style=\"text-align: right;\">\n",
       "      <th></th>\n",
       "      <th>y</th>\n",
       "      <th>x1</th>\n",
       "      <th>x2</th>\n",
       "      <th>x3</th>\n",
       "      <th>x4</th>\n",
       "      <th>x5</th>\n",
       "    </tr>\n",
       "  </thead>\n",
       "  <tbody>\n",
       "    <tr>\n",
       "      <th>0</th>\n",
       "      <td>0</td>\n",
       "      <td>14</td>\n",
       "      <td>4.30</td>\n",
       "      <td>1.00</td>\n",
       "      <td>2</td>\n",
       "      <td>3.72</td>\n",
       "    </tr>\n",
       "    <tr>\n",
       "      <th>1</th>\n",
       "      <td>0</td>\n",
       "      <td>12</td>\n",
       "      <td>11.54</td>\n",
       "      <td>8.49</td>\n",
       "      <td>3</td>\n",
       "      <td>40.28</td>\n",
       "    </tr>\n",
       "    <tr>\n",
       "      <th>2</th>\n",
       "      <td>0</td>\n",
       "      <td>14</td>\n",
       "      <td>5.84</td>\n",
       "      <td>2.47</td>\n",
       "      <td>3</td>\n",
       "      <td>56.00</td>\n",
       "    </tr>\n",
       "    <tr>\n",
       "      <th>3</th>\n",
       "      <td>1</td>\n",
       "      <td>11</td>\n",
       "      <td>14.70</td>\n",
       "      <td>6.60</td>\n",
       "      <td>1</td>\n",
       "      <td>57.41</td>\n",
       "    </tr>\n",
       "    <tr>\n",
       "      <th>4</th>\n",
       "      <td>0</td>\n",
       "      <td>21</td>\n",
       "      <td>5.10</td>\n",
       "      <td>3.48</td>\n",
       "      <td>1</td>\n",
       "      <td>83.00</td>\n",
       "    </tr>\n",
       "  </tbody>\n",
       "</table>\n",
       "</div>"
      ],
      "text/plain": [
       "   y  x1     x2    x3  x4     x5\n",
       "0  0  14   4.30  1.00   2   3.72\n",
       "1  0  12  11.54  8.49   3  40.28\n",
       "2  0  14   5.84  2.47   3  56.00\n",
       "3  1  11  14.70  6.60   1  57.41\n",
       "4  0  21   5.10  3.48   1  83.00"
      ]
     },
     "execution_count": 2,
     "metadata": {},
     "output_type": "execute_result"
    }
   ],
   "source": [
    "\n",
    "import pandas as pd\n",
    "import numpy as np\n",
    "from sklearn.model_selection import train_test_split\n",
    "from sklearn.metrics import confusion_matrix, roc_curve, roc_auc_score, classification_report\n",
    "import statsmodels.api as sm\n",
    "from statsmodels.tools import add_constant\n",
    "from statsmodels.discrete.discrete_model import Probit\n",
    "import matplotlib.pyplot as plt\n",
    "\n",
    "# Загрузка данных\n",
    "file_path = \"data/Doctor.xlsx\"  # Укажите путь к вашему файлу\n",
    "data = pd.read_excel(file_path)\n",
    "\n",
    "# Просмотр данных\n",
    "data.head()\n"
   ]
  },
  {
   "cell_type": "markdown",
   "id": "63589207",
   "metadata": {},
   "source": [
    "## 1. Описательная статистика"
   ]
  },
  {
   "cell_type": "code",
   "execution_count": 3,
   "id": "241c3490",
   "metadata": {},
   "outputs": [
    {
     "data": {
      "text/html": [
       "<div>\n",
       "<style scoped>\n",
       "    .dataframe tbody tr th:only-of-type {\n",
       "        vertical-align: middle;\n",
       "    }\n",
       "\n",
       "    .dataframe tbody tr th {\n",
       "        vertical-align: top;\n",
       "    }\n",
       "\n",
       "    .dataframe thead th {\n",
       "        text-align: right;\n",
       "    }\n",
       "</style>\n",
       "<table border=\"1\" class=\"dataframe\">\n",
       "  <thead>\n",
       "    <tr style=\"text-align: right;\">\n",
       "      <th></th>\n",
       "      <th>y</th>\n",
       "      <th>x1</th>\n",
       "      <th>x2</th>\n",
       "      <th>x3</th>\n",
       "      <th>x4</th>\n",
       "      <th>x5</th>\n",
       "    </tr>\n",
       "  </thead>\n",
       "  <tbody>\n",
       "    <tr>\n",
       "      <th>count</th>\n",
       "      <td>58.000000</td>\n",
       "      <td>58.000000</td>\n",
       "      <td>58.000000</td>\n",
       "      <td>58.000000</td>\n",
       "      <td>58.000000</td>\n",
       "      <td>58.000000</td>\n",
       "    </tr>\n",
       "    <tr>\n",
       "      <th>mean</th>\n",
       "      <td>0.637931</td>\n",
       "      <td>16.327586</td>\n",
       "      <td>10.327931</td>\n",
       "      <td>7.141379</td>\n",
       "      <td>2.344828</td>\n",
       "      <td>45.135000</td>\n",
       "    </tr>\n",
       "    <tr>\n",
       "      <th>std</th>\n",
       "      <td>0.484796</td>\n",
       "      <td>3.213939</td>\n",
       "      <td>3.957742</td>\n",
       "      <td>3.749343</td>\n",
       "      <td>0.928151</td>\n",
       "      <td>53.956171</td>\n",
       "    </tr>\n",
       "    <tr>\n",
       "      <th>min</th>\n",
       "      <td>0.000000</td>\n",
       "      <td>11.000000</td>\n",
       "      <td>3.300000</td>\n",
       "      <td>1.000000</td>\n",
       "      <td>1.000000</td>\n",
       "      <td>0.800000</td>\n",
       "    </tr>\n",
       "    <tr>\n",
       "      <th>25%</th>\n",
       "      <td>0.000000</td>\n",
       "      <td>14.000000</td>\n",
       "      <td>6.375000</td>\n",
       "      <td>3.985000</td>\n",
       "      <td>1.000000</td>\n",
       "      <td>22.115000</td>\n",
       "    </tr>\n",
       "    <tr>\n",
       "      <th>50%</th>\n",
       "      <td>1.000000</td>\n",
       "      <td>16.000000</td>\n",
       "      <td>10.450000</td>\n",
       "      <td>6.835000</td>\n",
       "      <td>3.000000</td>\n",
       "      <td>38.935000</td>\n",
       "    </tr>\n",
       "    <tr>\n",
       "      <th>75%</th>\n",
       "      <td>1.000000</td>\n",
       "      <td>19.000000</td>\n",
       "      <td>13.400000</td>\n",
       "      <td>9.975000</td>\n",
       "      <td>3.000000</td>\n",
       "      <td>53.125000</td>\n",
       "    </tr>\n",
       "    <tr>\n",
       "      <th>max</th>\n",
       "      <td>1.000000</td>\n",
       "      <td>27.000000</td>\n",
       "      <td>19.000000</td>\n",
       "      <td>16.000000</td>\n",
       "      <td>3.000000</td>\n",
       "      <td>399.800000</td>\n",
       "    </tr>\n",
       "  </tbody>\n",
       "</table>\n",
       "</div>"
      ],
      "text/plain": [
       "               y         x1         x2         x3         x4          x5\n",
       "count  58.000000  58.000000  58.000000  58.000000  58.000000   58.000000\n",
       "mean    0.637931  16.327586  10.327931   7.141379   2.344828   45.135000\n",
       "std     0.484796   3.213939   3.957742   3.749343   0.928151   53.956171\n",
       "min     0.000000  11.000000   3.300000   1.000000   1.000000    0.800000\n",
       "25%     0.000000  14.000000   6.375000   3.985000   1.000000   22.115000\n",
       "50%     1.000000  16.000000  10.450000   6.835000   3.000000   38.935000\n",
       "75%     1.000000  19.000000  13.400000   9.975000   3.000000   53.125000\n",
       "max     1.000000  27.000000  19.000000  16.000000   3.000000  399.800000"
      ]
     },
     "execution_count": 3,
     "metadata": {},
     "output_type": "execute_result"
    }
   ],
   "source": [
    "\n",
    "# Описательная статистика\n",
    "data.describe()\n"
   ]
  },
  {
   "cell_type": "markdown",
   "id": "b12423e7",
   "metadata": {},
   "source": [
    "## 2. Создание категориальной переменной"
   ]
  },
  {
   "cell_type": "code",
   "execution_count": 4,
   "id": "48ec15da",
   "metadata": {},
   "outputs": [],
   "source": [
    "\n",
    "# Преобразование переменной Y в категориальную (если необходимо)\n",
    "data['y'] = data['y'].astype('category')\n"
   ]
  },
  {
   "cell_type": "markdown",
   "id": "9db5e176",
   "metadata": {},
   "source": [
    "## 3. Построение логистической регрессии"
   ]
  },
  {
   "cell_type": "code",
   "execution_count": 5,
   "id": "b9af486e",
   "metadata": {},
   "outputs": [
    {
     "name": "stdout",
     "output_type": "stream",
     "text": [
      "Optimization terminated successfully.\n",
      "         Current function value: 0.341788\n",
      "         Iterations 8\n",
      "                           Logit Regression Results                           \n",
      "==============================================================================\n",
      "Dep. Variable:                      y   No. Observations:                   58\n",
      "Model:                          Logit   Df Residuals:                       52\n",
      "Method:                           MLE   Df Model:                            5\n",
      "Date:                Mon, 18 Nov 2024   Pseudo R-squ.:                  0.4779\n",
      "Time:                        09:55:47   Log-Likelihood:                -19.824\n",
      "converged:                       True   LL-Null:                       -37.967\n",
      "Covariance Type:            nonrobust   LLR p-value:                 8.325e-07\n",
      "==============================================================================\n",
      "                 coef    std err          z      P>|z|      [0.025      0.975]\n",
      "------------------------------------------------------------------------------\n",
      "const        -10.9423      3.871     -2.827      0.005     -18.529      -3.356\n",
      "x1             0.4555      0.180      2.529      0.011       0.102       0.809\n",
      "x2             0.8085      0.436      1.855      0.064      -0.046       1.663\n",
      "x3            -0.3559      0.418     -0.852      0.394      -1.175       0.463\n",
      "x4             0.1262      0.422      0.299      0.765      -0.701       0.954\n",
      "x5            -0.0319      0.020     -1.605      0.109      -0.071       0.007\n",
      "==============================================================================\n"
     ]
    }
   ],
   "source": [
    "\n",
    "# Подготовка данных\n",
    "X = data[['x1', 'x2', 'x3', 'x4', 'x5']]\n",
    "y = data['y']\n",
    "X_const = add_constant(X)  # Добавляем константу\n",
    "\n",
    "# Построение модели\n",
    "logit_model = sm.Logit(y, X_const)\n",
    "logit_result = logit_model.fit()\n",
    "\n",
    "# Вывод результатов\n",
    "print(logit_result.summary())\n"
   ]
  },
  {
   "cell_type": "markdown",
   "id": "3de1ae01",
   "metadata": {},
   "source": [
    "## 4. Уравнение регрессии"
   ]
  },
  {
   "cell_type": "code",
   "execution_count": 6,
   "id": "11c3cd05",
   "metadata": {},
   "outputs": [
    {
     "name": "stdout",
     "output_type": "stream",
     "text": [
      "Уравнение регрессии:\n",
      "Logit(Y) = -10.942*const + 0.455*x1 + 0.809*x2 + -0.356*x3 + 0.126*x4 + -0.032*x5\n",
      "Сигмоидная функция:\n",
      "1 / (1 + exp(-Logit(Y)))\n"
     ]
    }
   ],
   "source": [
    "\n",
    "# Коэффициенты модели\n",
    "coefficients = logit_result.params\n",
    "equation = \"Logit(Y) = \" + \" + \".join([f\"{coef:.3f}*{col}\" for col, coef in coefficients.items()])\n",
    "sigmoid = \"1 / (1 + exp(-Logit(Y)))\"\n",
    "print(\"Уравнение регрессии:\")\n",
    "print(equation)\n",
    "print(\"Сигмоидная функция:\")\n",
    "print(sigmoid)\n"
   ]
  },
  {
   "cell_type": "markdown",
   "id": "031a3148",
   "metadata": {},
   "source": [
    "## 5. Тест значимости коэффициентов"
   ]
  },
  {
   "cell_type": "code",
   "execution_count": 7,
   "id": "8ce1147e",
   "metadata": {},
   "outputs": [
    {
     "name": "stdout",
     "output_type": "stream",
     "text": [
      "const    0.004699\n",
      "x1       0.011451\n",
      "x2       0.063629\n",
      "x3       0.394305\n",
      "x4       0.765029\n",
      "x5       0.108591\n",
      "dtype: float64\n"
     ]
    }
   ],
   "source": [
    "\n",
    "# Тест значимости каждого коэффициента\n",
    "print(logit_result.pvalues)\n",
    "\n",
    "#sm.Logit.pvalues проводит тест на значимость коэффициентов, нулевая гипотеза которого заключается в том, что коэффициент равен нулю."
   ]
  },
  {
   "cell_type": "markdown",
   "id": "78bcacd1",
   "metadata": {},
   "source": [
    "## 6. Проверка значимости модели"
   ]
  },
  {
   "cell_type": "code",
   "execution_count": 13,
   "id": "1e223576",
   "metadata": {},
   "outputs": [
    {
     "name": "stdout",
     "output_type": "stream",
     "text": [
      "Критерий Вальда:\n",
      "<Wald test (chi2): statistic=[[13.30284204]], p-value=0.038471076725918804, df_denom=6>\n",
      "Логарифм максимального правдоподобия:\n",
      "-19.82371413806088\n"
     ]
    }
   ],
   "source": [
    "\n",
    "# Проверка значимости по критерию Вальда\n",
    "wald_test = logit_result.wald_test(np.eye(len(coefficients)))\n",
    "print(\"Критерий Вальда:\")\n",
    "print(wald_test)\n",
    "\n",
    "# Логарифм максимального правдоподобия\n",
    "print(\"Логарифм максимального правдоподобия:\")\n",
    "print(logit_result.llf)\n"
   ]
  },
  {
   "cell_type": "markdown",
   "id": "93f4a60a",
   "metadata": {},
   "source": [
    "## 7. Доверительные интервалы"
   ]
  },
  {
   "cell_type": "code",
   "execution_count": 14,
   "id": "e7d6213a",
   "metadata": {},
   "outputs": [
    {
     "name": "stdout",
     "output_type": "stream",
     "text": [
      "Доверительные интервалы:\n",
      "               0         1\n",
      "const -18.528639 -3.355914\n",
      "x1      0.102432  0.808508\n",
      "x2     -0.045854  1.662881\n",
      "x3     -1.174720  0.462956\n",
      "x4     -0.701351  0.953744\n",
      "x5     -0.070765  0.007056\n"
     ]
    }
   ],
   "source": [
    "\n",
    "# Доверительные интервалы\n",
    "conf_intervals = logit_result.conf_int()\n",
    "print(\"Доверительные интервалы:\")\n",
    "print(conf_intervals)\n"
   ]
  },
  {
   "cell_type": "markdown",
   "id": "1f745f2d",
   "metadata": {},
   "source": [
    "## 8. Сравнение логит и пробит моделей"
   ]
  },
  {
   "cell_type": "code",
   "execution_count": 15,
   "id": "c291df4b",
   "metadata": {},
   "outputs": [
    {
     "name": "stdout",
     "output_type": "stream",
     "text": [
      "Optimization terminated successfully.\n",
      "         Current function value: 0.342187\n",
      "         Iterations 7\n",
      "Logit AIC: 51.64742827612176\n",
      "Probit AIC: 51.69364070100063\n"
     ]
    }
   ],
   "source": [
    "\n",
    "# Пробит модель\n",
    "probit_model = Probit(y, X_const)\n",
    "probit_result = probit_model.fit()\n",
    "\n",
    "# Сравнение AIC\n",
    "print(f\"Logit AIC: {logit_result.aic}\")\n",
    "print(f\"Probit AIC: {probit_result.aic}\")\n"
   ]
  },
  {
   "cell_type": "markdown",
   "id": "1ba04158",
   "metadata": {},
   "source": [
    "## 9. Таблица сопряженности"
   ]
  },
  {
   "cell_type": "code",
   "execution_count": 12,
   "id": "b7b84f5c",
   "metadata": {},
   "outputs": [
    {
     "name": "stdout",
     "output_type": "stream",
     "text": [
      "Таблица сопряженности:\n",
      "[[18  3]\n",
      " [ 3 34]]\n"
     ]
    }
   ],
   "source": [
    "\n",
    "# Предсказания и таблица сопряженности\n",
    "y_pred = (logit_result.predict(X_const) >= 0.5).astype(int)\n",
    "conf_matrix = confusion_matrix(y, y_pred)\n",
    "print(\"Таблица сопряженности:\")\n",
    "print(conf_matrix)\n"
   ]
  },
  {
   "cell_type": "markdown",
   "id": "b2286798",
   "metadata": {},
   "source": [
    "## Специфичность и чувствительность модели"
   ]
  },
  {
   "cell_type": "code",
   "execution_count": 20,
   "id": "95a61bab",
   "metadata": {},
   "outputs": [
    {
     "name": "stdout",
     "output_type": "stream",
     "text": [
      "Чувствительность: 0.918918918918919\n",
      "Специфичность: 0.8571428571428571\n"
     ]
    }
   ],
   "source": [
    "#Посчитать специфичность и чувствительность модели (функции  sensitivity и specificity).\n",
    "def sensitivity_specificity(y_true, y_pred):\n",
    "    conf_matrix = confusion_matrix(y_true, y_pred)\n",
    "    tn, fp, fn, tp = conf_matrix.ravel()\n",
    "    sensitivity = tp / (tp + fn)\n",
    "    specificity = tn / (tn + fp)\n",
    "    return sensitivity, specificity\n",
    "\n",
    "sensitivity, specificity = sensitivity_specificity(y, y_pred)\n",
    "print(f\"Чувствительность: {sensitivity}\")\n",
    "print(f\"Специфичность: {specificity}\")"
   ]
  },
  {
   "cell_type": "markdown",
   "id": "f6f5fc2a",
   "metadata": {},
   "source": [
    "## Оптимальное пороговое значение"
   ]
  },
  {
   "cell_type": "code",
   "execution_count": 21,
   "id": "a09057dc",
   "metadata": {},
   "outputs": [
    {
     "name": "stdout",
     "output_type": "stream",
     "text": [
      "Оптимальное пороговое значение:\n",
      "0.5375999950709945\n",
      "Таблица сопряженности для оптимального порога:\n",
      "[[18  3]\n",
      " [ 3 34]]\n",
      "Чувствительность для оптимального порога: 0.918918918918919\n",
      "Специфичность для оптимального порога: 0.8571428571428571\n"
     ]
    }
   ],
   "source": [
    "#Найти оптимальное пороговое значение вероятности предсказания. Построить таблицу сопряженности для этой вероятности, посчитать специфичность и чувствительность модели (функция  optimalCutoff).\n",
    "def optimal_cutoff(y_true, y_pred):\n",
    "    fpr, tpr, thresholds = roc_curve(y_true, y_pred)\n",
    "    optimal_idx = np.argmax(tpr - fpr)\n",
    "    optimal_threshold = thresholds[optimal_idx]\n",
    "    return optimal_threshold\n",
    "\n",
    "optimal_threshold = optimal_cutoff(y, logit_result.predict(X_const))\n",
    "y_pred_optimal = (logit_result.predict(X_const) >= optimal_threshold).astype(int)\n",
    "conf_matrix_optimal = confusion_matrix(y, y_pred_optimal)\n",
    "sensitivity_optimal, specificity_optimal = sensitivity_specificity(y, y_pred_optimal)\n",
    "print(\"Оптимальное пороговое значение:\")\n",
    "print(optimal_threshold)\n",
    "print(\"Таблица сопряженности для оптимального порога:\")\n",
    "print(conf_matrix_optimal)\n",
    "\n",
    "print(f\"Чувствительность для оптимального порога: {sensitivity_optimal}\")\n",
    "print(f\"Специфичность для оптимального порога: {specificity_optimal}\")"
   ]
  },
  {
   "cell_type": "markdown",
   "id": "ef491d7d",
   "metadata": {},
   "source": [
    "## 10. Построение ROC-кривой"
   ]
  },
  {
   "cell_type": "code",
   "execution_count": 13,
   "id": "42c1168e",
   "metadata": {},
   "outputs": [
    {
     "data": {
      "image/png": "[encoded data removed]",
      "text/plain": [
       "<Figure size 800x600 with 1 Axes>"
      ]
     },
     "metadata": {},
     "output_type": "display_data"
    }
   ],
   "source": [
    "\n",
    "# ROC-кривая\n",
    "y_pred_prob = logit_result.predict(X_const)\n",
    "fpr, tpr, _ = roc_curve(y, y_pred_prob)\n",
    "roc_auc = roc_auc_score(y, y_pred_prob)\n",
    "\n",
    "plt.figure(figsize=(8, 6))\n",
    "plt.plot(fpr, tpr, label=f\"ROC curve (AUC = {roc_auc:.2f})\")\n",
    "plt.plot([0, 1], [0, 1], 'k--', label=\"Random Guess\")\n",
    "plt.xlabel(\"False Positive Rate\")\n",
    "plt.ylabel(\"True Positive Rate\")\n",
    "plt.title(\"ROC Curve\")\n",
    "plt.legend()\n",
    "plt.show()\n"
   ]
  },
  {
   "cell_type": "markdown",
   "id": "25db6e78",
   "metadata": {},
   "source": [
    "## 11. Улучшение модели с помощью AIC"
   ]
  },
  {
   "cell_type": "code",
   "execution_count": 17,
   "id": "38e8870e",
   "metadata": {},
   "outputs": [
    {
     "name": "stdout",
     "output_type": "stream",
     "text": [
      "Лучшая модель по AIC:\n",
      "                           Logit Regression Results                           \n",
      "==============================================================================\n",
      "Dep. Variable:                      y   No. Observations:                   58\n",
      "Model:                          Logit   Df Residuals:                       52\n",
      "Method:                           MLE   Df Model:                            5\n",
      "Date:                Sun, 17 Nov 2024   Pseudo R-squ.:                  0.4779\n",
      "Time:                        19:34:22   Log-Likelihood:                -19.824\n",
      "converged:                       True   LL-Null:                       -37.967\n",
      "Covariance Type:            nonrobust   LLR p-value:                 8.325e-07\n",
      "==============================================================================\n",
      "                 coef    std err          z      P>|z|      [0.025      0.975]\n",
      "------------------------------------------------------------------------------\n",
      "const        -10.9423      3.871     -2.827      0.005     -18.529      -3.356\n",
      "x1             0.4555      0.180      2.529      0.011       0.102       0.809\n",
      "x2             0.8085      0.436      1.855      0.064      -0.046       1.663\n",
      "x3            -0.3559      0.418     -0.852      0.394      -1.175       0.463\n",
      "x4             0.1262      0.422      0.299      0.765      -0.701       0.954\n",
      "x5            -0.0319      0.020     -1.605      0.109      -0.071       0.007\n",
      "==============================================================================\n"
     ]
    }
   ],
   "source": [
    "\n",
    "from statsmodels.tools.eval_measures import aic\n",
    "\n",
    "# Улучшение модели\n",
    "best_model = logit_result\n",
    "best_aic = aic(llf=logit_result.llf, df_modelwc=logit_result.df_model, nobs=logit_result.nobs)\n",
    "\n",
    "for i in range(1, len(X.columns)):\n",
    "    candidate_X = X.iloc[:, :i]\n",
    "    candidate_model = sm.Logit(y, add_constant(candidate_X)).fit(disp=False)\n",
    "    candidate_aic = aic(llf=candidate_model.llf, df_modelwc=candidate_model.df_model, nobs=candidate_model.nobs)\n",
    "    if candidate_aic < best_aic:\n",
    "        best_model = candidate_model\n",
    "        best_aic = candidate_aic\n",
    "\n",
    "print(\"Лучшая модель по AIC:\")\n",
    "print(best_model.summary())\n"
   ]
  }
 ],
 "metadata": {
  "kernelspec": {
   "display_name": ".venv",
   "language": "python",
   "name": "python3"
  },
  "language_info": {
   "codemirror_mode": {
    "name": "ipython",
    "version": 3
   },
   "file_extension": ".py",
   "mimetype": "text/x-python",
   "name": "python",
   "nbconvert_exporter": "python",
   "pygments_lexer": "ipython3",
   "version": "3.12.3"
  }
 },
 "nbformat": 4,
 "nbformat_minor": 5
}
